{
 "cells": [
  {
   "cell_type": "code",
   "execution_count": 1,
   "metadata": {
    "collapsed": true
   },
   "outputs": [],
   "source": [
    "import pandas as pd \n",
    "pd.options.mode.chained_assignment = None\n",
    "import numpy as np \n",
    "from copy import deepcopy\n",
    "from string import punctuation\n",
    "from random import shuffle\n",
    "from nltk.tokenize import word_tokenize\n",
    "import re\n",
    "import gensim\n",
    "from gensim.models.word2vec import Word2Vec"
   ]
  },
  {
   "cell_type": "code",
   "execution_count": 2,
   "metadata": {
    "collapsed": true
   },
   "outputs": [],
   "source": [
    "data = pd.read_table(\"quora_duplicate_questions.tsv\")"
   ]
  },
  {
   "cell_type": "code",
   "execution_count": 3,
   "metadata": {},
   "outputs": [
    {
     "data": {
      "text/html": [
       "<div>\n",
       "<style>\n",
       "    .dataframe thead tr:only-child th {\n",
       "        text-align: right;\n",
       "    }\n",
       "\n",
       "    .dataframe thead th {\n",
       "        text-align: left;\n",
       "    }\n",
       "\n",
       "    .dataframe tbody tr th {\n",
       "        vertical-align: top;\n",
       "    }\n",
       "</style>\n",
       "<table border=\"1\" class=\"dataframe\">\n",
       "  <thead>\n",
       "    <tr style=\"text-align: right;\">\n",
       "      <th></th>\n",
       "      <th>id</th>\n",
       "      <th>qid1</th>\n",
       "      <th>qid2</th>\n",
       "      <th>question1</th>\n",
       "      <th>question2</th>\n",
       "      <th>is_duplicate</th>\n",
       "    </tr>\n",
       "  </thead>\n",
       "  <tbody>\n",
       "    <tr>\n",
       "      <th>0</th>\n",
       "      <td>0</td>\n",
       "      <td>1</td>\n",
       "      <td>2</td>\n",
       "      <td>What is the step by step guide to invest in sh...</td>\n",
       "      <td>What is the step by step guide to invest in sh...</td>\n",
       "      <td>0</td>\n",
       "    </tr>\n",
       "    <tr>\n",
       "      <th>1</th>\n",
       "      <td>1</td>\n",
       "      <td>3</td>\n",
       "      <td>4</td>\n",
       "      <td>What is the story of Kohinoor (Koh-i-Noor) Dia...</td>\n",
       "      <td>What would happen if the Indian government sto...</td>\n",
       "      <td>0</td>\n",
       "    </tr>\n",
       "    <tr>\n",
       "      <th>2</th>\n",
       "      <td>2</td>\n",
       "      <td>5</td>\n",
       "      <td>6</td>\n",
       "      <td>How can I increase the speed of my internet co...</td>\n",
       "      <td>How can Internet speed be increased by hacking...</td>\n",
       "      <td>0</td>\n",
       "    </tr>\n",
       "    <tr>\n",
       "      <th>3</th>\n",
       "      <td>3</td>\n",
       "      <td>7</td>\n",
       "      <td>8</td>\n",
       "      <td>Why am I mentally very lonely? How can I solve...</td>\n",
       "      <td>Find the remainder when [math]23^{24}[/math] i...</td>\n",
       "      <td>0</td>\n",
       "    </tr>\n",
       "    <tr>\n",
       "      <th>4</th>\n",
       "      <td>4</td>\n",
       "      <td>9</td>\n",
       "      <td>10</td>\n",
       "      <td>Which one dissolve in water quikly sugar, salt...</td>\n",
       "      <td>Which fish would survive in salt water?</td>\n",
       "      <td>0</td>\n",
       "    </tr>\n",
       "  </tbody>\n",
       "</table>\n",
       "</div>"
      ],
      "text/plain": [
       "   id  qid1  qid2                                          question1  \\\n",
       "0   0     1     2  What is the step by step guide to invest in sh...   \n",
       "1   1     3     4  What is the story of Kohinoor (Koh-i-Noor) Dia...   \n",
       "2   2     5     6  How can I increase the speed of my internet co...   \n",
       "3   3     7     8  Why am I mentally very lonely? How can I solve...   \n",
       "4   4     9    10  Which one dissolve in water quikly sugar, salt...   \n",
       "\n",
       "                                           question2  is_duplicate  \n",
       "0  What is the step by step guide to invest in sh...             0  \n",
       "1  What would happen if the Indian government sto...             0  \n",
       "2  How can Internet speed be increased by hacking...             0  \n",
       "3  Find the remainder when [math]23^{24}[/math] i...             0  \n",
       "4            Which fish would survive in salt water?             0  "
      ]
     },
     "execution_count": 3,
     "metadata": {},
     "output_type": "execute_result"
    }
   ],
   "source": [
    "data.head()"
   ]
  },
  {
   "cell_type": "code",
   "execution_count": 4,
   "metadata": {
    "collapsed": true
   },
   "outputs": [],
   "source": [
    "data['is_duplicate'] = data['is_duplicate'].map(int)"
   ]
  },
  {
   "cell_type": "code",
   "execution_count": 19,
   "metadata": {
    "collapsed": true
   },
   "outputs": [],
   "source": [
    "def tokenize(question):\n",
    "    #print (question)\n",
    "    try: \n",
    "        question = question.lower()\n",
    "        question = re.sub(r\"\\b\\d+\\b\", \"#\", question)\n",
    "        #print (\"prob1\")\n",
    "        tokens = word_tokenize(question)\n",
    "        #print (\"prob2\")\n",
    "        return tokens\n",
    "    except: \n",
    "        return 'error'"
   ]
  },
  {
   "cell_type": "code",
   "execution_count": 6,
   "metadata": {
    "collapsed": true
   },
   "outputs": [],
   "source": [
    "data['q1_tokens'] = data['question1'].map(tokenize)"
   ]
  },
  {
   "cell_type": "code",
   "execution_count": 18,
   "metadata": {},
   "outputs": [
    {
     "data": {
      "text/plain": [
       "0    [what, is, the, step, by, step, guide, to, inv...\n",
       "1    [what, is, the, story, of, kohinoor, (, koh-i-...\n",
       "2    [how, can, i, increase, the, speed, of, my, in...\n",
       "3    [why, am, i, mentally, very, lonely, ?, how, c...\n",
       "4    [which, one, dissolve, in, water, quikly, suga...\n",
       "Name: q1_tokens, dtype: object"
      ]
     },
     "execution_count": 18,
     "metadata": {},
     "output_type": "execute_result"
    }
   ],
   "source": [
    "data['q1_tokens'].head()"
   ]
  },
  {
   "cell_type": "code",
   "execution_count": 8,
   "metadata": {},
   "outputs": [],
   "source": [
    "data['q2_tokens'] = data['question2'].map(tokenize)"
   ]
  },
  {
   "cell_type": "code",
   "execution_count": 9,
   "metadata": {
    "collapsed": true
   },
   "outputs": [],
   "source": [
    "X_train = data['q1_tokens']"
   ]
  },
  {
   "cell_type": "code",
   "execution_count": 10,
   "metadata": {
    "collapsed": true
   },
   "outputs": [],
   "source": [
    "X_train = X_train.tolist()"
   ]
  },
  {
   "cell_type": "code",
   "execution_count": 11,
   "metadata": {},
   "outputs": [],
   "source": [
    "model = gensim.models.Word2Vec(X_train, min_count=1, size=200, workers=4)"
   ]
  },
  {
   "cell_type": "code",
   "execution_count": 12,
   "metadata": {
    "collapsed": true
   },
   "outputs": [],
   "source": [
    "model.save('quora_model')"
   ]
  },
  {
   "cell_type": "code",
   "execution_count": 13,
   "metadata": {
    "collapsed": true
   },
   "outputs": [],
   "source": [
    "model = gensim.models.Word2Vec.load('quora_model')"
   ]
  },
  {
   "cell_type": "code",
   "execution_count": 22,
   "metadata": {},
   "outputs": [
    {
     "data": {
      "text/plain": [
       "array([-0.01528304, -0.00769395,  0.00536221, -0.00149216,  0.01838657,\n",
       "        0.01328165, -0.02242446, -0.03219188, -0.0154252 ,  0.01255128,\n",
       "        0.01278877,  0.02887107,  0.006863  ,  0.03135168,  0.01577382,\n",
       "       -0.02408543, -0.02301276,  0.00876908,  0.0182158 , -0.00040519,\n",
       "        0.01442492, -0.01050555, -0.0207648 , -0.01572544, -0.01990194,\n",
       "        0.00049522,  0.0118898 , -0.00459166,  0.01722606, -0.01411093,\n",
       "       -0.03729928, -0.00231266,  0.02126817, -0.01049008, -0.0118645 ,\n",
       "        0.00561862, -0.0435626 , -0.00053224,  0.00344427, -0.0284901 ,\n",
       "       -0.00081483,  0.02197785, -0.02218512,  0.00307409, -0.00151747,\n",
       "        0.01183119,  0.00715271, -0.01226094,  0.01971282,  0.00244447,\n",
       "       -0.0134466 ,  0.01786305, -0.02496912, -0.01528639,  0.00162499,\n",
       "        0.00162657,  0.02523079, -0.01090216,  0.00745971,  0.00063608,\n",
       "        0.0160355 ,  0.0267981 , -0.01039426,  0.0134301 ,  0.00087815,\n",
       "        0.00177182,  0.02405245,  0.01801674,  0.01686651, -0.01339381,\n",
       "        0.01805551,  0.01165943, -0.01359882, -0.00711114, -0.00387056,\n",
       "       -0.00838099, -0.01957961,  0.00947052,  0.02498508,  0.01453541,\n",
       "       -0.01219444, -0.00700529,  0.0299712 , -0.00598489, -0.01543269,\n",
       "       -0.00712005, -0.00162683, -0.00936148,  0.00173872, -0.00288218,\n",
       "        0.00930369, -0.00386927,  0.03766581, -0.00589789, -0.01845676,\n",
       "       -0.00106916,  0.00462667, -0.00937282,  0.02420747,  0.00461621,\n",
       "        0.01130271,  0.00932888,  0.02000971, -0.02684603, -0.00976395,\n",
       "        0.00535369, -0.00719178,  0.01009744,  0.01061891, -0.04069663,\n",
       "       -0.02069066,  0.0047455 ,  0.00894087,  0.02080028, -0.01615298,\n",
       "       -0.01272594,  0.00023915, -0.01379102,  0.02289592,  0.01250143,\n",
       "        0.006996  , -0.03848242,  0.01284593, -0.00366518,  0.01353593,\n",
       "        0.0096621 , -0.01778457, -0.00101153, -0.00707309, -0.02252692,\n",
       "       -0.02400865,  0.01175066, -0.0272116 , -0.00507392,  0.02051866,\n",
       "        0.03147205,  0.0100261 , -0.01388754,  0.01161307,  0.00355872,\n",
       "       -0.00570563,  0.01091432,  0.00210027, -0.00479257,  0.00600952,\n",
       "       -0.00181266, -0.00479109,  0.01256897, -0.01758688, -0.02768141,\n",
       "        0.0112276 ,  0.01354215, -0.00954451, -0.00897103, -0.01131231,\n",
       "        0.0037215 ,  0.01723691, -0.02578554, -0.0269932 ,  0.00961027,\n",
       "        0.01777769, -0.0043041 , -0.01238805,  0.00564137, -0.02217258,\n",
       "       -0.00497879, -0.0127308 ,  0.0186111 ,  0.01088882,  0.00376956,\n",
       "        0.0013924 , -0.00189877,  0.00778777,  0.00483041,  0.00962975,\n",
       "        0.00406937,  0.00374168,  0.00724918,  0.00480808,  0.00266656,\n",
       "        0.00478665,  0.00555139, -0.0026582 , -0.00340277,  0.01134853,\n",
       "       -0.01311896,  0.00325363, -0.00834929,  0.01059039,  0.02976575,\n",
       "        0.00291518, -0.01763288,  0.00865128, -0.02507639, -0.00787997,\n",
       "        0.01820089,  0.02972318,  0.02709782,  0.0136229 ,  0.00653794], dtype=float32)"
      ]
     },
     "execution_count": 22,
     "metadata": {},
     "output_type": "execute_result"
    }
   ],
   "source": [
    "model['シ']"
   ]
  },
  {
   "cell_type": "code",
   "execution_count": 15,
   "metadata": {
    "collapsed": true
   },
   "outputs": [],
   "source": [
    "# https://rare-technologies.com/word2vec-tutorial/\n",
    "# http://ahogrammer.com/2017/01/20/the-list-of-pretrained-word-embeddings/"
   ]
  },
  {
   "cell_type": "code",
   "execution_count": 23,
   "metadata": {
    "collapsed": true
   },
   "outputs": [],
   "source": [
    "glove = gensim.scripts.glove2word2vec.get_glove_info(\"glove.840B.300d.txt\")"
   ]
  },
  {
   "cell_type": "code",
   "execution_count": 26,
   "metadata": {},
   "outputs": [
    {
     "data": {
      "text/plain": [
       "(2196017, 300)"
      ]
     },
     "execution_count": 26,
     "metadata": {},
     "output_type": "execute_result"
    }
   ],
   "source": [
    "glove"
   ]
  },
  {
   "cell_type": "code",
   "execution_count": 27,
   "metadata": {},
   "outputs": [
    {
     "data": {
      "text/plain": [
       "(2196017, 300)"
      ]
     },
     "execution_count": 27,
     "metadata": {},
     "output_type": "execute_result"
    }
   ],
   "source": [
    "#https://machinelearningmastery.com/develop-word-embeddings-python-gensim/\n",
    "from gensim.scripts.glove2word2vec import glove2word2vec\n",
    "glove_input_file = \"glove.840B.300d.txt\"\n",
    "word2vec_output_file = 'glove_word2vec.txt'\n",
    "glove2word2vec(glove_input_file, word2vec_output_file)"
   ]
  },
  {
   "cell_type": "code",
   "execution_count": 28,
   "metadata": {
    "collapsed": true
   },
   "outputs": [],
   "source": [
    "from gensim.models import KeyedVectors\n",
    "# load the Stanford GloVe model\n",
    "filename = 'glove_word2vec.txt'\n",
    "glove_model = KeyedVectors.load_word2vec_format(filename, binary=False)"
   ]
  },
  {
   "cell_type": "code",
   "execution_count": 29,
   "metadata": {
    "collapsed": true
   },
   "outputs": [],
   "source": [
    "glove_model.save('glove_model')"
   ]
  },
  {
   "cell_type": "code",
   "execution_count": 32,
   "metadata": {},
   "outputs": [
    {
     "data": {
      "text/plain": [
       "array([-0.42625001,  0.44310001, -0.34516999, -0.13259999, -0.05816   ,\n",
       "        0.052598  ,  0.21574999, -0.36721   , -0.04519   ,  2.24440002,\n",
       "       -0.29089001,  0.16670001, -0.052051  ,  0.15964   , -0.42759001,\n",
       "       -0.11147   , -0.14951   ,  1.17999995, -0.19603001,  0.15592   ,\n",
       "       -0.06112   , -0.011576  ,  0.26848999, -0.30175   , -0.055796  ,\n",
       "        0.12116   ,  0.010542  , -0.18065   ,  0.23281001, -0.26367   ,\n",
       "        0.11032   ,  0.06216   ,  0.015019  , -0.10687   ,  0.098486  ,\n",
       "        0.048457  ,  0.33355001, -0.16177   , -0.28503001, -0.28654999,\n",
       "       -0.11245   ,  0.12417   , -0.24975   , -0.2008    ,  0.26034001,\n",
       "        0.25207999, -0.17840999,  0.15395001, -0.19799   , -0.22644   ,\n",
       "       -0.074088  ,  0.50288999,  0.32104999, -0.034766  ,  0.16542999,\n",
       "        0.057095  , -0.20973   ,  0.098376  ,  0.035058  , -0.023057  ,\n",
       "       -0.11736   , -0.51327002, -0.020999  ,  0.39962   ,  0.30533001,\n",
       "       -0.38839   ,  0.0026097 ,  0.29021999,  0.017045  ,  0.063961  ,\n",
       "        0.10789   ,  0.29012999,  0.061732  ,  0.068231  , -0.014031  ,\n",
       "        0.048649  , -0.011663  , -0.26526999, -0.14494   ,  0.45396999,\n",
       "        0.067191  ,  0.14195   ,  0.37301999, -0.0076579 ,  0.018443  ,\n",
       "       -0.10224   , -0.0051647 , -0.12233   ,  0.25854999, -0.11212   ,\n",
       "       -0.053952  , -0.19947   , -0.32291001,  0.26205   ,  0.35758001,\n",
       "       -0.26069999,  0.37932   , -0.42680001,  0.061313  ,  0.0085055 ,\n",
       "       -0.31061   , -0.15091   , -0.22569001,  0.074085  ,  0.26418999,\n",
       "       -0.96890002,  0.32049999,  0.013197  ,  0.020656  , -0.24059001,\n",
       "        0.21454   , -0.38931   , -0.058037  , -0.055826  ,  0.22324   ,\n",
       "        0.18331   , -0.024247  , -0.1512    , -0.010921  , -0.27555999,\n",
       "        0.31151   ,  0.21918   , -0.091469  ,  0.055151  ,  0.0064999 ,\n",
       "        0.13427   , -0.28369001, -0.38306001,  0.073976  , -0.061432  ,\n",
       "        0.11585   , -0.093184  , -0.09172   , -0.22746   , -0.11907   ,\n",
       "        0.21006   ,  0.0097736 , -0.23443   ,  0.29532999, -0.26389   ,\n",
       "       -2.15490007,  0.391     ,  0.60843998,  0.021372  , -0.29117   ,\n",
       "       -0.52578002, -0.30445001, -0.12788001,  0.39592001,  0.20246001,\n",
       "       -0.38065001, -0.076001  ,  0.046315  , -0.24566001,  0.014438  ,\n",
       "       -0.0095246 , -0.029197  , -0.11232   , -0.029992  , -0.52386999,\n",
       "        0.05365   ,  0.032134  ,  0.35620999,  0.040588  ,  0.28365999,\n",
       "       -0.51086003,  0.20677   , -0.37149999,  0.19042   , -0.048069  ,\n",
       "        0.0025944 , -0.069552  ,  0.20582999, -0.40107   ,  0.0066834 ,\n",
       "        0.066419  , -0.19584   ,  0.19295999,  0.14748999, -0.0423    ,\n",
       "       -0.044897  , -0.46937001, -0.38398999,  0.019192  , -0.24857   ,\n",
       "       -0.14294   , -0.085374  , -0.088101  ,  0.23244999, -0.16667999,\n",
       "       -0.025019  , -0.029291  , -0.0046514 , -0.12139   , -0.20833001,\n",
       "        0.24371   ,  0.060033  , -0.18485001,  0.33875999,  0.058523  ,\n",
       "        0.11933   ,  0.066886  , -0.20035   , -0.054426  ,  0.03731   ,\n",
       "        0.22031   , -0.22824   ,  0.048875  ,  0.060931  ,  0.026946  ,\n",
       "       -0.20081   , -0.005543  ,  0.043733  , -0.60604   , -0.20840999,\n",
       "        0.13011999,  0.18032999, -0.086796  , -0.13199   ,  0.05757   ,\n",
       "       -0.161     , -0.07107   ,  0.015812  ,  0.40779001,  0.53948998,\n",
       "        0.13829   , -0.20688   ,  0.076653  ,  0.097948  ,  0.071683  ,\n",
       "       -0.10647   ,  0.054176  , -0.29319999,  0.14681   ,  0.16784   ,\n",
       "       -0.20442   ,  0.047034  , -0.31862   , -0.2226    ,  0.12788001,\n",
       "        0.17326   , -0.10272   , -0.15956999,  0.25465   ,  0.27581999,\n",
       "        0.011341  , -0.21905001, -0.50155997, -0.15053   ,  0.098795  ,\n",
       "        0.31615001, -0.087923  , -0.48265001, -0.1241    , -0.11466   ,\n",
       "        0.22521999,  0.28101   , -0.38343   , -0.19752   ,  0.067079  ,\n",
       "       -0.1339    ,  0.1416    ,  0.26925001,  0.42701   ,  0.1372    ,\n",
       "       -0.13302   ,  0.13731   ,  0.32494   ,  0.55031002,  0.25321001,\n",
       "        0.077384  ,  0.049114  , -0.36115   , -0.52552998, -0.37360999,\n",
       "        0.36655   ,  0.032056  , -0.28452   ,  0.14393   ,  0.70665002,\n",
       "       -0.2256    , -0.29620001, -0.18956999, -0.04505   , -0.023948  ,\n",
       "        0.078238  ,  0.08545   , -0.23747   ,  0.17434999,  0.039811  ,\n",
       "       -0.45907   , -0.052783  , -0.32051   , -0.12172   ,  0.31545001,\n",
       "        0.045489  ,  0.22644   , -0.4303    , -0.068851  ,  0.12875   ], dtype=float32)"
      ]
     },
     "execution_count": 32,
     "metadata": {},
     "output_type": "execute_result"
    }
   ],
   "source": [
    "glove_model['good']"
   ]
  },
  {
   "cell_type": "code",
   "execution_count": null,
   "metadata": {
    "collapsed": true
   },
   "outputs": [],
   "source": []
  }
 ],
 "metadata": {
  "kernelspec": {
   "display_name": "Python 3",
   "language": "python",
   "name": "python3"
  },
  "language_info": {
   "codemirror_mode": {
    "name": "ipython",
    "version": 3
   },
   "file_extension": ".py",
   "mimetype": "text/x-python",
   "name": "python",
   "nbconvert_exporter": "python",
   "pygments_lexer": "ipython3",
   "version": "3.5.4"
  }
 },
 "nbformat": 4,
 "nbformat_minor": 2
}
